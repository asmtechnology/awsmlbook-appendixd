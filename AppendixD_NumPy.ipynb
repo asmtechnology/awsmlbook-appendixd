{
 "cells": [
  {
   "cell_type": "markdown",
   "metadata": {},
   "source": [
    "====== Array Creation ======"
   ]
  },
  {
   "cell_type": "code",
   "execution_count": 34,
   "metadata": {},
   "outputs": [
    {
     "name": "stdout",
     "output_type": "stream",
     "text": [
      "[10 27 34]\n"
     ]
    }
   ],
   "source": [
    "#importing NumPy into your project\n",
    "import numpy as np\n",
    "\n",
    "# creating an one dimensional ndarray\n",
    "x = np.array([10, 27, 34])\n",
    "print (x)"
   ]
  },
  {
   "cell_type": "code",
   "execution_count": 10,
   "metadata": {},
   "outputs": [
    {
     "name": "stdout",
     "output_type": "stream",
     "text": [
      "[[11 28  9]\n",
      " [56 38 91]\n",
      " [33 87 36]\n",
      " [87  8  4]]\n"
     ]
    }
   ],
   "source": [
    "# creating a two-dimensional ndarray\n",
    "points = np.array([[11, 28, 9], [56, 38, 91], [33,87,36], [87,8,4]])\n",
    "print (points)"
   ]
  },
  {
   "cell_type": "code",
   "execution_count": 11,
   "metadata": {},
   "outputs": [
    {
     "name": "stdout",
     "output_type": "stream",
     "text": [
      "[10. 27. 34.]\n"
     ]
    }
   ],
   "source": [
    "#creating a one dimensional array, whilst specifying the data type\n",
    "y = np.array([10, 27, 34], dtype=np.float64)\n",
    "print (y)"
   ]
  },
  {
   "cell_type": "code",
   "execution_count": 12,
   "metadata": {},
   "outputs": [
    {
     "name": "stdout",
     "output_type": "stream",
     "text": [
      "[[1 1 1]\n",
      " [1 1 1]\n",
      " [1 1 1]\n",
      " [1 1 1]]\n"
     ]
    }
   ],
   "source": [
    "# create an array with ones\n",
    "a = np.ones((4,3), dtype=np.int16)\n",
    "print (a)"
   ]
  },
  {
   "cell_type": "code",
   "execution_count": 15,
   "metadata": {},
   "outputs": [
    {
     "name": "stdout",
     "output_type": "stream",
     "text": [
      "[[0.48746158 0.93214926 0.1450121 ]\n",
      " [0.69303901 0.43758922 0.62645661]]\n"
     ]
    }
   ],
   "source": [
    "# create an array with random numbers\n",
    "r = np.random.random([2,3])\n",
    "print (r)"
   ]
  },
  {
   "cell_type": "code",
   "execution_count": 17,
   "metadata": {},
   "outputs": [
    {
     "name": "stdout",
     "output_type": "stream",
     "text": [
      "[0 3 6]\n"
     ]
    }
   ],
   "source": [
    "# use the arange function to create a sequence of numbers\n",
    "sequence1 = np.arange(0, 9, 3)\n",
    "print (sequence1)"
   ]
  },
  {
   "cell_type": "code",
   "execution_count": 19,
   "metadata": {},
   "outputs": [
    {
     "name": "stdout",
     "output_type": "stream",
     "text": [
      "[0 1 2 3 4]\n",
      "[0 1 2 3 4]\n"
     ]
    }
   ],
   "source": [
    "# these arange statements achieve identical results.\n",
    "sequence2 = np.arange(5)\n",
    "sequence3 = np.arange(0,5,1)\n",
    "print (sequence2)\n",
    "print (sequence3)"
   ]
  },
  {
   "cell_type": "code",
   "execution_count": 20,
   "metadata": {},
   "outputs": [
    {
     "name": "stdout",
     "output_type": "stream",
     "text": [
      "[0.  4.5 9. ]\n"
     ]
    }
   ],
   "source": [
    "# the linspace function can also be used to obtain a sequence\n",
    "sequence4 = np.linspace(0, 9, 3)\n",
    "print (sequence4)"
   ]
  },
  {
   "cell_type": "markdown",
   "metadata": {},
   "source": [
    "====== Arithmetic Operations ======"
   ]
  },
  {
   "cell_type": "code",
   "execution_count": 23,
   "metadata": {},
   "outputs": [
    {
     "name": "stdout",
     "output_type": "stream",
     "text": [
      "[[ 4  6  8]\n",
      " [ 6  8 10]]\n",
      "[[-2 -2 -2]\n",
      " [-2 -2 -2]]\n",
      "[[ 3  8 15]\n",
      " [ 8 15 24]]\n",
      "[[0.33333333 0.5        0.6       ]\n",
      " [0.5        0.6        0.66666667]]\n"
     ]
    }
   ],
   "source": [
    "# Elementwise arithmetic operations can be performed on ndarrays\n",
    "array1 = np.array([[1,2,3], [2, 3, 4]])\n",
    "array2 = np.array([[3,4,5], [4, 5, 6]])\n",
    "\n",
    "Sum = array1 + array2\n",
    "Difference = array1 - array2\n",
    "Product = array1 * array2\n",
    "Division = array1 / array2\n",
    "\n",
    "print (Sum)\n",
    "print (Difference)\n",
    "print (Product)\n",
    "print (Division)\n"
   ]
  },
  {
   "cell_type": "code",
   "execution_count": 33,
   "metadata": {},
   "outputs": [
    {
     "name": "stdout",
     "output_type": "stream",
     "text": [
      "[111. 112. 113.]\n",
      "[-107. -106. -105.]\n",
      "[4000. 5000. 6000.]\n",
      "[0.005 0.006 0.007]\n"
     ]
    }
   ],
   "source": [
    "# in-place elementwise arithmetic operations\n",
    "array1 = np.array([1,2,3], dtype=np.float64)\n",
    "array2 = np.array([3,4,5], dtype=np.float64)\n",
    "array3 = np.array([4,5,6], dtype=np.float64)\n",
    "array4 = np.array([5,6,7], dtype=np.float64)\n",
    "\n",
    "# in-place arithmetic and can be performed using arrays of the same size\n",
    "array1 += np.array([10,10,10], dtype=np.float64)\n",
    "array2 -= np.array([10,10,10], dtype=np.float64)\n",
    "array3 *= np.array([10,10,10], dtype=np.float64)\n",
    "array4 /= np.array([10,10,10], dtype=np.float64)\n",
    "\n",
    "# in-place arithmetic can be performed using a scalar value\n",
    "array1 += 100.0\n",
    "array2 -= 100.0\n",
    "array3 *= 100.0\n",
    "array4 /= 100.0\n",
    "\n",
    "print (array1)\n",
    "print (array2)\n",
    "print (array3)\n",
    "print (array4)\n"
   ]
  },
  {
   "cell_type": "code",
   "execution_count": 37,
   "metadata": {},
   "outputs": [
    {
     "name": "stdout",
     "output_type": "stream",
     "text": [
      "[ 0.  1. 16. 81.]\n"
     ]
    }
   ],
   "source": [
    "# the exponent operator\n",
    "array1 = np.arange(4, dtype=np.float64)\n",
    "array1 **= 4\n",
    "print (array1)"
   ]
  },
  {
   "cell_type": "markdown",
   "metadata": {},
   "source": [
    "====== Comparison Operators ======"
   ]
  },
  {
   "cell_type": "code",
   "execution_count": 40,
   "metadata": {},
   "outputs": [
    {
     "name": "stdout",
     "output_type": "stream",
     "text": [
      "[ True False False]\n",
      "[ True False  True]\n",
      "[False  True False]\n",
      "[False  True  True]\n",
      "[False False  True]\n",
      "[ True  True False]\n"
     ]
    }
   ],
   "source": [
    "array1 = np.array([1,4,5])\n",
    "array2 = np.array([3,2,5])\n",
    "\n",
    "# less than\n",
    "print (array1 < array2)\n",
    "\n",
    "# less than equal to\n",
    "print (array1 <= array2)\n",
    "\n",
    "# greater than\n",
    "print (array1 > array2)\n",
    "\n",
    "# greater than equal to\n",
    "print (array1 >= array2)\n",
    "\n",
    "# equal to\n",
    "print (array1 == array2)\n",
    "\n",
    "# not equal to\n",
    "print (array1 != array2)"
   ]
  },
  {
   "cell_type": "markdown",
   "metadata": {},
   "source": [
    "====== Matrix/Vector Operations ======"
   ]
  },
  {
   "cell_type": "code",
   "execution_count": 41,
   "metadata": {},
   "outputs": [
    {
     "name": "stdout",
     "output_type": "stream",
     "text": [
      "36.0\n",
      "[[ 3.  2.  5.]\n",
      " [12.  8. 20.]\n",
      " [15. 10. 25.]]\n",
      "[ 10.  10. -10.]\n"
     ]
    }
   ],
   "source": [
    "array1 = np.array([1,4,5], dtype=np.float_)\n",
    "array2 = np.array([3,2,5], dtype=np.float_)\n",
    "\n",
    "# inner (dot product)\n",
    "print (np.inner(array1, array2))\n",
    "\n",
    "# outer product\n",
    "print (np.outer(array1, array2))\n",
    "\n",
    "# cross product\n",
    "print (np.cross(array1, array2))\n"
   ]
  },
  {
   "cell_type": "markdown",
   "metadata": {},
   "source": [
    "====== Indexing and Slicing ======"
   ]
  },
  {
   "cell_type": "code",
   "execution_count": 54,
   "metadata": {},
   "outputs": [
    {
     "name": "stdout",
     "output_type": "stream",
     "text": [
      "[0. 1. 2. 3. 4. 5. 6. 7. 8. 9.]\n",
      "3.0\n",
      "[2. 3. 4.]\n",
      "[0. 1. 2. 3. 4. 5.]\n",
      "[5. 6. 7. 8. 9.]\n",
      "[0. 2. 4. 6. 8.]\n",
      "[9. 8. 7. 6. 5. 4. 3. 2. 1. 0.]\n"
     ]
    }
   ],
   "source": [
    "# create a one-dimensional array with 10 elements\n",
    "array1 = np.linspace(0, 9, 10)\n",
    "print (array1)\n",
    "\n",
    "# get the third element. Indexes are zero-based.\n",
    "print (array1[3])\n",
    "\n",
    "# extracts elements 2 , 3, 4 into a sub array\n",
    "print (array1[2:5])\n",
    "\n",
    "#extract first 6 elements of the array (elements 0 to 5)\n",
    "print (array1[:6])\n",
    "\n",
    "# extract elements 5 onwards\n",
    "print(array1[5:])\n",
    "\n",
    "# extract every alternate element, step value is specified as 2\n",
    "print (array1[::2])\n",
    "\n",
    "# reverse all the elements in array1\n",
    "print (array1[::-1])"
   ]
  },
  {
   "cell_type": "code",
   "execution_count": 67,
   "metadata": {},
   "outputs": [
    {
     "name": "stdout",
     "output_type": "stream",
     "text": [
      "[[ 1  2  3  4]\n",
      " [ 5  6  7  8]\n",
      " [ 9 10 11 12]]\n",
      "7\n",
      "[1 5 9]\n",
      "[1 2 3 4]\n",
      "[[ 1  2]\n",
      " [ 5  6]\n",
      " [ 9 10]]\n"
     ]
    }
   ],
   "source": [
    "# create a two-dimensional array with 12 elements\n",
    "array1 = np.array([[1,2,3,4], [5,6,7,8], [9, 10, 11, 12]])\n",
    "print (array1)\n",
    "\n",
    "# get the element in the second row, third column. Indexes are zero-based.\n",
    "print (array1[1,2])\n",
    "\n",
    "# get all the elements in the first column\n",
    "print (array1[:,0])\n",
    "\n",
    "#get all the elements in the first row\n",
    "print (array1[0,:])\n",
    "\n",
    "# get a sub 2-dimensional array\n",
    "print (array1[:3, :2])"
   ]
  },
  {
   "cell_type": "code",
   "execution_count": null,
   "metadata": {},
   "outputs": [],
   "source": []
  }
 ],
 "metadata": {
  "kernelspec": {
   "display_name": "Python 3",
   "language": "python",
   "name": "python3"
  },
  "language_info": {
   "codemirror_mode": {
    "name": "ipython",
    "version": 3
   },
   "file_extension": ".py",
   "mimetype": "text/x-python",
   "name": "python",
   "nbconvert_exporter": "python",
   "pygments_lexer": "ipython3",
   "version": "3.6.4"
  }
 },
 "nbformat": 4,
 "nbformat_minor": 2
}
