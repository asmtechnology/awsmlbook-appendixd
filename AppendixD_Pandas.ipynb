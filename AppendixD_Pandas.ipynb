{
 "cells": [
  {
   "cell_type": "markdown",
   "metadata": {},
   "source": [
    "==== Creating Series ===="
   ]
  },
  {
   "cell_type": "code",
   "execution_count": 2,
   "metadata": {},
   "outputs": [],
   "source": [
    "#import NumPy and Pandas into your Python project\n",
    "import numpy as np\n",
    "import pandas as pd"
   ]
  },
  {
   "cell_type": "code",
   "execution_count": 6,
   "metadata": {},
   "outputs": [
    {
     "name": "stdout",
     "output_type": "stream",
     "text": [
      "0       Volkswagen\n",
      "1             Ford\n",
      "2    Mercedes-Benz\n",
      "3              BMW\n",
      "4           Nissan\n",
      "dtype: object\n",
      "Mercedes-Benz\n"
     ]
    }
   ],
   "source": [
    "# create a Pandas series from a Python list.\n",
    "car_manufacturers = ['Volkswagen','Ford','Mercedes-Benz','BMW','Nissan']\n",
    "pds_car_manufacturers = pd.Series(data=car_manufacturers)\n",
    "print (pds_car_manufacturers)\n",
    "print (pds_car_manufacturers[2])"
   ]
  },
  {
   "cell_type": "code",
   "execution_count": 7,
   "metadata": {},
   "outputs": [
    {
     "name": "stdout",
     "output_type": "stream",
     "text": [
      "PB810AQ    White Mercedes-Benz E-Class\n",
      "RJ09VWQ           Blue Volkswagen Polo\n",
      "TU914A8            Silver BMW 1 Series\n",
      "WQ81R09                 Red Ford Focus\n",
      "dtype: object\n",
      "Silver BMW 1 Series\n",
      "Red Ford Focus\n"
     ]
    }
   ],
   "source": [
    "# create a Pandas series from a Python dictionary\n",
    "#\n",
    "# Pandas does not generate a series index.\n",
    "cars = {'RJ09VWQ':'Blue Volkswagen Polo',\n",
    "        'WQ81R09':'Red Ford Focus',\n",
    "        'PB810AQ':'White Mercedes-Benz E-Class',\n",
    "        'TU914A8':'Silver BMW 1 Series'}\n",
    "pds_cars = pd.Series(data=cars)\n",
    "print (pds_cars)\n",
    "print (pds_cars[2])\n",
    "print (pds_cars['WQ81R09'])"
   ]
  },
  {
   "cell_type": "code",
   "execution_count": 9,
   "metadata": {},
   "outputs": [
    {
     "name": "stdout",
     "output_type": "stream",
     "text": [
      "Index(['PB810AQ', 'RJ09VWQ', 'TU914A8', 'WQ81R09'], dtype='object')\n",
      "['White Mercedes-Benz E-Class' 'Blue Volkswagen Polo'\n",
      " 'Silver BMW 1 Series' 'Red Ford Focus']\n"
     ]
    }
   ],
   "source": [
    "# you can access the indices and the values of a series individually\n",
    "print (pds_cars.index)\n",
    "print (pds_cars.values)"
   ]
  },
  {
   "cell_type": "code",
   "execution_count": 27,
   "metadata": {},
   "outputs": [
    {
     "name": "stdout",
     "output_type": "stream",
     "text": [
      "Index(['PassengerId', 'Survived', 'Pclass', 'Name', 'Sex', 'Age', 'SibSp',\n",
      "       'Parch', 'Ticket', 'Fare', 'Cabin', 'Embarked'],\n",
      "      dtype='object')\n"
     ]
    }
   ],
   "source": [
    "# load the contents of a file into a pandas Dataframe\n",
    "input_file = './titanic_dataset/original/train.csv'\n",
    "df_iris = pd.read_csv(input_file)\n",
    "\n",
    "# print the names of the columns\n",
    "print (df_iris.columns)"
   ]
  },
  {
   "cell_type": "code",
   "execution_count": 26,
   "metadata": {},
   "outputs": [],
   "source": [
    "# create a Dataframe with a subset of the columns in df_iris\n",
    "df_iris_subset = df_iris[['PassengerId', 'Survived', 'Pclass', 'Sex','Fare', 'Age']]"
   ]
  },
  {
   "cell_type": "markdown",
   "metadata": {},
   "source": [
    "==== Getting information on a Dataframe ===="
   ]
  },
  {
   "cell_type": "code",
   "execution_count": 51,
   "metadata": {},
   "outputs": [
    {
     "name": "stdout",
     "output_type": "stream",
     "text": [
      "(891, 6)\n",
      "   PassengerId  Survived  Pclass     Sex     Fare   Age\n",
      "0            1         0       3    male   7.2500  22.0\n",
      "1            2         1       1  female  71.2833  38.0\n",
      "2            3         1       3  female   7.9250  26.0\n",
      "3            4         1       1  female  53.1000  35.0\n",
      "4            5         0       3    male   8.0500  35.0\n",
      "     PassengerId  Survived  Pclass     Sex   Fare   Age\n",
      "888          889         0       3  female  23.45   NaN\n",
      "889          890         1       1    male  30.00  26.0\n",
      "890          891         0       3    male   7.75  32.0\n",
      "     PassengerId  Survived  Pclass     Sex     Fare   Age\n",
      "710          711         1       1  female  49.5042  24.0\n",
      "127          128         1       3    male   7.1417  24.0\n",
      "222          223         0       3    male   8.0500  51.0\n",
      "795          796         0       2    male  13.0000  39.0\n",
      "673          674         1       2    male  13.0000  31.0\n",
      "115          116         0       3    male   7.9250  21.0\n",
      "451          452         0       3    male  19.9667   NaN\n",
      "642          643         0       3  female  27.9000   2.0\n",
      "853          854         1       1  female  39.4000  16.0\n",
      "272          273         1       2  female  19.5000  41.0\n"
     ]
    }
   ],
   "source": [
    "# how many rows and columns in the dataset\n",
    "print (df_iris_subset.shape)\n",
    "\n",
    "# print first 5 rows\n",
    "print (df_iris_subset.head())\n",
    "\n",
    "# print last 3 rows\n",
    "print (df_iris_subset.tail(3))\n",
    "\n",
    "# print a random sample of 10 rows\n",
    "print (df_iris_subset.sample(10))"
   ]
  },
  {
   "cell_type": "code",
   "execution_count": 25,
   "metadata": {},
   "outputs": [
    {
     "name": "stdout",
     "output_type": "stream",
     "text": [
      "<class 'pandas.core.frame.DataFrame'>\n",
      "RangeIndex: 891 entries, 0 to 890\n",
      "Data columns (total 6 columns):\n",
      "PassengerId    891 non-null int64\n",
      "Survived       891 non-null int64\n",
      "Pclass         891 non-null int64\n",
      "Sex            891 non-null object\n",
      "Fare           891 non-null float64\n",
      "Age            714 non-null float64\n",
      "dtypes: float64(2), int64(3), object(1)\n",
      "memory usage: 41.8+ KB\n",
      "None\n"
     ]
    }
   ],
   "source": [
    "# get information on data types and memory footprint\n",
    "print (df_iris_subset.info())"
   ]
  },
  {
   "cell_type": "code",
   "execution_count": 30,
   "metadata": {},
   "outputs": [
    {
     "name": "stdout",
     "output_type": "stream",
     "text": [
      "       PassengerId    Survived      Pclass        Fare         Age\n",
      "count   891.000000  891.000000  891.000000  891.000000  714.000000\n",
      "mean    446.000000    0.383838    2.308642   32.204208   29.699118\n",
      "std     257.353842    0.486592    0.836071   49.693429   14.526497\n",
      "min       1.000000    0.000000    1.000000    0.000000    0.420000\n",
      "25%     223.500000    0.000000    2.000000    7.910400   20.125000\n",
      "50%     446.000000    0.000000    3.000000   14.454200   28.000000\n",
      "75%     668.500000    1.000000    3.000000   31.000000   38.000000\n",
      "max     891.000000    1.000000    3.000000  512.329200   80.000000\n"
     ]
    }
   ],
   "source": [
    "# get statistical information on numeric columns\n",
    "print (df_iris_subset.describe())"
   ]
  },
  {
   "cell_type": "code",
   "execution_count": 32,
   "metadata": {},
   "outputs": [
    {
     "name": "stdout",
     "output_type": "stream",
     "text": [
      "PassengerId    446.000000\n",
      "Survived         0.383838\n",
      "Pclass           2.308642\n",
      "Fare            32.204208\n",
      "Age             29.699118\n",
      "dtype: float64\n",
      "PassengerId    446.000000\n",
      "Survived         0.383838\n",
      "Pclass           2.308642\n",
      "Fare            32.204208\n",
      "Age             29.699118\n",
      "dtype: float64\n",
      "             PassengerId  Survived    Pclass      Fare       Age\n",
      "PassengerId     1.000000 -0.005007 -0.035144  0.012658  0.036847\n",
      "Survived       -0.005007  1.000000 -0.338481  0.257307 -0.077221\n",
      "Pclass         -0.035144 -0.338481  1.000000 -0.549500 -0.369226\n",
      "Fare            0.012658  0.257307 -0.549500  1.000000  0.096067\n",
      "Age             0.036847 -0.077221 -0.369226  0.096067  1.000000\n"
     ]
    }
   ],
   "source": [
    "# mean of all columns\n",
    "print (df_iris_subset.mean())\n",
    "\n",
    "# the following statement is identical to the previous one, \n",
    "# as axis = 0 implies columns.\n",
    "print (df_iris_subset.mean(axis=0))\n",
    "\n",
    "#correlation between columns\n",
    "print (df_iris_subset.corr())"
   ]
  },
  {
   "cell_type": "code",
   "execution_count": 52,
   "metadata": {},
   "outputs": [
    {
     "name": "stdout",
     "output_type": "stream",
     "text": [
      "     PassengerId  Survived  Pclass    Sex   Fare    Age\n",
      "385        False     False   False  False  False  False\n",
      "530        False     False   False  False  False  False\n",
      "166        False     False   False  False  False   True\n",
      "334        False     False   False  False  False   True\n",
      "603        False     False   False  False  False  False\n",
      "807        False     False   False  False  False  False\n",
      "819        False     False   False  False  False  False\n",
      "99         False     False   False  False  False  False\n",
      "767        False     False   False  False  False  False\n",
      "480        False     False   False  False  False  False\n",
      "PassengerId      0\n",
      "Survived         0\n",
      "Pclass           0\n",
      "Sex              0\n",
      "Fare             0\n",
      "Age            177\n",
      "dtype: int64\n",
      "PassengerId    891\n",
      "Survived       891\n",
      "Pclass         891\n",
      "Sex            891\n",
      "Fare           891\n",
      "Age            714\n",
      "dtype: int64\n"
     ]
    }
   ],
   "source": [
    "# highlight the null values in a random sample of data\n",
    "print (df_iris_subset.sample(10).isnull())\n",
    "       \n",
    "# find out if there are any missing values in the data\n",
    "print (df_iris_subset.isnull().sum())\n",
    "\n",
    "# number of non-null values in each column\n",
    "print (df_iris_subset.count())"
   ]
  },
  {
   "cell_type": "markdown",
   "metadata": {},
   "source": [
    "==== selecting data ===="
   ]
  },
  {
   "cell_type": "code",
   "execution_count": 47,
   "metadata": {},
   "outputs": [
    {
     "name": "stdout",
     "output_type": "stream",
     "text": [
      "   Pclass\n",
      "0       3\n",
      "1       1\n",
      "2       3\n",
      "3       1\n",
      "4       3\n",
      "   PassengerId   Age\n",
      "0            1  22.0\n",
      "1            2  38.0\n",
      "2            3  26.0\n",
      "3            4  35.0\n",
      "4            5  35.0\n",
      "   PassengerId  Survived  Pclass     Sex     Fare   Age\n",
      "0            1         0       3    male   7.2500  22.0\n",
      "1            2         1       1  female  71.2833  38.0\n",
      "2            3         1       3  female   7.9250  26.0\n",
      "   PassengerId  Survived  Pclass\n",
      "0            1         0       3\n",
      "1            2         1       1\n",
      "2            3         1       3\n",
      "PassengerId    395\n",
      "Survived       395\n",
      "Pclass         395\n",
      "Sex            395\n",
      "Fare           395\n",
      "Age            395\n",
      "dtype: int64\n"
     ]
    }
   ],
   "source": [
    "# extract a single column as a series object\n",
    "pds_class = df_iris_subset[['Pclass']]\n",
    "print (pds_class.head())\n",
    "\n",
    "# extract a specific subset of named columns into a new dataframe\n",
    "df_test1 = df_iris_subset[['PassengerId', 'Age']]\n",
    "print (df_test1.head())\n",
    "\n",
    "# extract first 3 rows into a new data frame\n",
    "df_test2 = df_iris_subset[0:3]\n",
    "print (df_test2.head())\n",
    "\n",
    "# extract first 3 rows and 3 columns into a new dataframe\n",
    "df_test3 = df_iris_subset.iloc[0:3,0:3]\n",
    "print (df_test3.head())\n",
    "\n",
    "# extracting all rows where Age > 26 into a new dataframe\n",
    "df_test4 = df_iris_subset[df_iris_subset['Age'] > 26]\n",
    "print (df_test4.count())"
   ]
  },
  {
   "cell_type": "code",
   "execution_count": null,
   "metadata": {},
   "outputs": [],
   "source": []
  }
 ],
 "metadata": {
  "kernelspec": {
   "display_name": "Python 3",
   "language": "python",
   "name": "python3"
  },
  "language_info": {
   "codemirror_mode": {
    "name": "ipython",
    "version": 3
   },
   "file_extension": ".py",
   "mimetype": "text/x-python",
   "name": "python",
   "nbconvert_exporter": "python",
   "pygments_lexer": "ipython3",
   "version": "3.6.4"
  }
 },
 "nbformat": 4,
 "nbformat_minor": 2
}
